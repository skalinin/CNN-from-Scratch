{
 "cells": [
  {
   "cell_type": "code",
   "execution_count": 1,
   "id": "33cdea08",
   "metadata": {},
   "outputs": [],
   "source": [
    "import numpy as np\n",
    "\n",
    "from cnn.numpy_model import Conv2d"
   ]
  },
  {
   "cell_type": "code",
   "execution_count": 2,
   "id": "fc73accf",
   "metadata": {},
   "outputs": [],
   "source": [
    "kernel = np.array([\n",
    "    [1, 2],\n",
    "    [3, 4]\n",
    "])\n",
    "\n",
    "dEdx_l = np.zeros((3, 3))"
   ]
  },
  {
   "cell_type": "markdown",
   "id": "4752a4d2",
   "metadata": {},
   "source": [
    "##  View <u>convolution</u> backprop operations through input matrix y<sup>l-1</sup> on each step"
   ]
  },
  {
   "cell_type": "markdown",
   "id": "ae34954d",
   "metadata": {},
   "source": [
    "### It is worth noting that the kernel retains its orientation on dE/dx<sup>l</sup> matrix, while during feedforward <u>convolution</u> step the kernel was turned upside down on y<sup>l-1</sup> (and It is vice versa for <u>cross-correlation</u>)."
   ]
  },
  {
   "cell_type": "code",
   "execution_count": 3,
   "id": "28525e72",
   "metadata": {
    "scrolled": true
   },
   "outputs": [
    {
     "name": "stdout",
     "output_type": "stream",
     "text": [
      "i=0; j=0\n",
      " [[1. 2. 0.]\n",
      " [3. 4. 0.]\n",
      " [0. 0. 0.]]\n",
      "i=0; j=1\n",
      " [[0. 1. 2.]\n",
      " [0. 3. 4.]\n",
      " [0. 0. 0.]]\n",
      "i=0; j=2\n",
      " [[0. 0. 1.]\n",
      " [0. 0. 3.]\n",
      " [0. 0. 0.]]\n",
      "i=1; j=0\n",
      " [[0. 0. 0.]\n",
      " [1. 2. 0.]\n",
      " [3. 4. 0.]]\n",
      "i=1; j=1\n",
      " [[0. 0. 0.]\n",
      " [0. 1. 2.]\n",
      " [0. 3. 4.]]\n",
      "i=1; j=2\n",
      " [[0. 0. 0.]\n",
      " [0. 0. 1.]\n",
      " [0. 0. 3.]]\n",
      "i=2; j=0\n",
      " [[0. 0. 0.]\n",
      " [0. 0. 0.]\n",
      " [1. 2. 0.]]\n",
      "i=2; j=1\n",
      " [[0. 0. 0.]\n",
      " [0. 0. 0.]\n",
      " [0. 1. 2.]]\n",
      "i=2; j=2\n",
      " [[0. 0. 0.]\n",
      " [0. 0. 0.]\n",
      " [0. 0. 1.]]\n"
     ]
    }
   ],
   "source": [
    "conv2d = Conv2d(\n",
    "    kernel_size=(2, 2),\n",
    "    in_channels=1,\n",
    "    out_channels=1,\n",
    "    stride=1,\n",
    "    kernel_center=(0, 0),\n",
    "    convolution=True\n",
    ")\n",
    "\n",
    "x = conv2d.convolution_back_dEdy_l_minus_1(dEdx_l, kernel, (3, 3), print_demo=True)"
   ]
  },
  {
   "cell_type": "markdown",
   "id": "9d7d2cdb",
   "metadata": {},
   "source": [
    "### With stride=2 the kernel \"decays\" and zeros appear between its elements."
   ]
  },
  {
   "cell_type": "code",
   "execution_count": 4,
   "id": "4f997b0a",
   "metadata": {},
   "outputs": [
    {
     "name": "stdout",
     "output_type": "stream",
     "text": [
      "i=0; j=0\n",
      " [[1. 0. 0.]\n",
      " [0. 0. 0.]\n",
      " [0. 0. 0.]]\n",
      "i=0; j=1\n",
      " [[0. 2. 0.]\n",
      " [0. 0. 0.]\n",
      " [0. 0. 0.]]\n",
      "i=1; j=0\n",
      " [[0. 0. 0.]\n",
      " [3. 0. 0.]\n",
      " [0. 0. 0.]]\n",
      "i=1; j=1\n",
      " [[0. 0. 0.]\n",
      " [0. 4. 0.]\n",
      " [0. 0. 0.]]\n"
     ]
    }
   ],
   "source": [
    "conv2d = Conv2d(\n",
    "    kernel_size=(2, 2),\n",
    "    in_channels=1,\n",
    "    out_channels=1,\n",
    "    stride=2,\n",
    "    kernel_center=(0, 0),\n",
    "    convolution=True\n",
    ")\n",
    "\n",
    "\n",
    "x = conv2d.convolution_back_dEdy_l_minus_1(dEdx_l, kernel, (2, 2), print_demo=True)"
   ]
  }
 ],
 "metadata": {
  "kernelspec": {
   "display_name": "Python 3",
   "language": "python",
   "name": "python3"
  },
  "language_info": {
   "codemirror_mode": {
    "name": "ipython",
    "version": 3
   },
   "file_extension": ".py",
   "mimetype": "text/x-python",
   "name": "python",
   "nbconvert_exporter": "python",
   "pygments_lexer": "ipython3",
   "version": "3.9.5"
  }
 },
 "nbformat": 4,
 "nbformat_minor": 5
}
