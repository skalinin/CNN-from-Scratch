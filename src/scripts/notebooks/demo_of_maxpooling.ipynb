{
 "cells": [
  {
   "cell_type": "code",
   "execution_count": 1,
   "id": "54ccb40c",
   "metadata": {},
   "outputs": [],
   "source": [
    "import numpy as np\n",
    "\n",
    "from cnn.numpy_model import Maxpool2d"
   ]
  },
  {
   "cell_type": "code",
   "execution_count": 2,
   "id": "013dc4dd",
   "metadata": {},
   "outputs": [],
   "source": [
    "y_l = np.array([\n",
    "    [1., 0, 2, 3],\n",
    "    [4, 6, 6, 8],\n",
    "    [3, 1, 1, 0],\n",
    "    [1, 2, 2, 4]\n",
    "])\n",
    "\n",
    "max_pool = Maxpool2d(kernel_size=(2, 2), stride=2)\n",
    "\n",
    "y_l_mp, y_l_mp_to_y_l = max_pool.maxpool(y_l)"
   ]
  },
  {
   "cell_type": "markdown",
   "id": "4752a4d2",
   "metadata": {},
   "source": [
    "##  View max pooling results"
   ]
  },
  {
   "cell_type": "markdown",
   "id": "b72aec5c",
   "metadata": {},
   "source": [
    "###  The output of max pooling:"
   ]
  },
  {
   "cell_type": "code",
   "execution_count": 3,
   "id": "a64c092a",
   "metadata": {},
   "outputs": [
    {
     "name": "stdout",
     "output_type": "stream",
     "text": [
      "[[6. 8.]\n",
      " [3. 4.]]\n"
     ]
    }
   ],
   "source": [
    "print(y_l_mp)"
   ]
  },
  {
   "cell_type": "markdown",
   "id": "23a2e287",
   "metadata": {},
   "source": [
    "###  This matrix stores coords of the selected elements during feedforward, and it needed for backprop:"
   ]
  },
  {
   "cell_type": "code",
   "execution_count": 4,
   "id": "43cb4818",
   "metadata": {},
   "outputs": [
    {
     "name": "stdout",
     "output_type": "stream",
     "text": [
      "[['1,1' '1,3']\n",
      " ['2,0' '3,3']]\n"
     ]
    }
   ],
   "source": [
    "print(y_l_mp_to_y_l)"
   ]
  }
 ],
 "metadata": {
  "kernelspec": {
   "display_name": "Python 3",
   "language": "python",
   "name": "python3"
  },
  "language_info": {
   "codemirror_mode": {
    "name": "ipython",
    "version": 3
   },
   "file_extension": ".py",
   "mimetype": "text/x-python",
   "name": "python",
   "nbconvert_exporter": "python",
   "pygments_lexer": "ipython3",
   "version": "3.9.5"
  }
 },
 "nbformat": 4,
 "nbformat_minor": 5
}
