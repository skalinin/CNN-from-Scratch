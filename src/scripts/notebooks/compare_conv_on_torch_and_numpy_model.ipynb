{
 "cells": [
  {
   "cell_type": "code",
   "execution_count": 1,
   "id": "3d56a14c",
   "metadata": {},
   "outputs": [],
   "source": [
    "import torch\n",
    "import numpy as np\n",
    "\n",
    "from cnn.numpy_model import Conv2d\n",
    "from scripts.make_init_weights import (\n",
    "    conv_weights_converter, conv_biases_converter\n",
    ")"
   ]
  },
  {
   "cell_type": "code",
   "execution_count": 2,
   "id": "af7404f3",
   "metadata": {},
   "outputs": [],
   "source": [
    "def compare_conv2d(kernel_size, stride, kernel_center, padding=0):\n",
    "    # random input array\n",
    "    input_array = np.random.rand(1, 5, 5).astype(np.float32)\n",
    "    \n",
    "    # torch Conv2d\n",
    "    torch_conv2d = torch.nn.Conv2d(1, 1, kernel_size, stride, padding=padding)\n",
    "    print(\"torch Conv2d:\")\n",
    "    input_tensor = torch.from_numpy(input_array).unsqueeze(0)\n",
    "    print(torch_conv2d(input_tensor))\n",
    "\n",
    "    # numpy implementation of Conv2d\n",
    "    numpy_conv2d = Conv2d(\n",
    "        kernel_size=kernel_size,\n",
    "        in_channels=1,\n",
    "        out_channels=1,\n",
    "        stride=stride,\n",
    "        kernel_center=kernel_center,\n",
    "        padding=padding,\n",
    "        convolution=False\n",
    "    )\n",
    "    # convert weights from torch conv2d to numpy conv2d\n",
    "    numpy_conv2d.conv_w = conv_weights_converter(torch_conv2d.state_dict()['weight'])\n",
    "    numpy_conv2d.conv_b = conv_biases_converter(torch_conv2d.state_dict()['bias'])\n",
    "\n",
    "    print(\"\\nNumpy implementation of Conv2d:\")\n",
    "    print(numpy_conv2d(input_array))"
   ]
  },
  {
   "cell_type": "markdown",
   "id": "67da67a3",
   "metadata": {},
   "source": [
    "## Compare torch Conv2d to numpy-implementation"
   ]
  },
  {
   "cell_type": "markdown",
   "id": "21574b24",
   "metadata": {},
   "source": [
    "#### Kernel center is always in (0, 0) position"
   ]
  },
  {
   "cell_type": "markdown",
   "id": "a9ae0acf",
   "metadata": {},
   "source": [
    "### Kernel size (2, 2) and stride 2"
   ]
  },
  {
   "cell_type": "code",
   "execution_count": 3,
   "id": "b9d603b0",
   "metadata": {},
   "outputs": [
    {
     "name": "stdout",
     "output_type": "stream",
     "text": [
      "torch Conv2d:\n",
      "tensor([[[[-0.1412,  0.0377],\n",
      "          [-0.0248, -0.3575]]]], grad_fn=<ThnnConv2DBackward>)\n",
      "\n",
      "Numpy implementation of Conv2d:\n",
      "[array([[-0.14116088,  0.03771617],\n",
      "       [-0.02484168, -0.3575285 ]], dtype=float32)]\n"
     ]
    }
   ],
   "source": [
    "compare_conv2d(\n",
    "    kernel_size=(2, 2),\n",
    "    stride=2,\n",
    "    kernel_center=(0, 0)\n",
    ")"
   ]
  },
  {
   "cell_type": "markdown",
   "id": "02243e50",
   "metadata": {},
   "source": [
    "### Kernel size (3, 3) and stride 1"
   ]
  },
  {
   "cell_type": "code",
   "execution_count": 4,
   "id": "106618dd",
   "metadata": {},
   "outputs": [
    {
     "name": "stdout",
     "output_type": "stream",
     "text": [
      "torch Conv2d:\n",
      "tensor([[[[-0.2305, -0.4262, -0.1277],\n",
      "          [ 0.0419,  0.0482,  0.1126],\n",
      "          [-0.0532, -0.0479, -0.4103]]]], grad_fn=<ThnnConv2DBackward>)\n",
      "\n",
      "Numpy implementation of Conv2d:\n",
      "[array([[-0.23051777, -0.42615947, -0.12774153],\n",
      "       [ 0.04185531,  0.04824102,  0.11260903],\n",
      "       [-0.05322258, -0.04785229, -0.41027802]], dtype=float32)]\n"
     ]
    }
   ],
   "source": [
    "compare_conv2d(\n",
    "    kernel_size=(3, 3),\n",
    "    stride=1,\n",
    "    kernel_center=(0, 0)\n",
    ")"
   ]
  },
  {
   "cell_type": "markdown",
   "id": "9dcef28e",
   "metadata": {},
   "source": [
    "### Kernel size (4, 4) and stride 2"
   ]
  },
  {
   "cell_type": "code",
   "execution_count": 5,
   "id": "22dd3247",
   "metadata": {},
   "outputs": [
    {
     "name": "stdout",
     "output_type": "stream",
     "text": [
      "torch Conv2d:\n",
      "tensor([[[[-0.4054]]]], grad_fn=<MkldnnConvolutionBackward>)\n",
      "\n",
      "Numpy implementation of Conv2d:\n",
      "[array([[-0.4054127]], dtype=float32)]\n"
     ]
    }
   ],
   "source": [
    "compare_conv2d(\n",
    "    kernel_size=(4, 4),\n",
    "    stride=2,\n",
    "    kernel_center=(0, 0)\n",
    ")"
   ]
  },
  {
   "cell_type": "markdown",
   "id": "09284693",
   "metadata": {},
   "source": [
    "### Kernel size (3, 3), stride 2, padding 3"
   ]
  },
  {
   "cell_type": "code",
   "execution_count": 6,
   "id": "293a210b",
   "metadata": {},
   "outputs": [
    {
     "name": "stdout",
     "output_type": "stream",
     "text": [
      "torch Conv2d:\n",
      "tensor([[[[-0.0197, -0.0197, -0.0197, -0.0197, -0.0197],\n",
      "          [-0.0197,  0.2750,  0.4760,  0.2583, -0.0197],\n",
      "          [-0.0197,  0.3465,  0.6443,  0.5811, -0.0197],\n",
      "          [-0.0197,  0.0123,  0.1295,  0.1442, -0.0197],\n",
      "          [-0.0197, -0.0197, -0.0197, -0.0197, -0.0197]]]],\n",
      "       grad_fn=<ThnnConv2DBackward>)\n",
      "\n",
      "Numpy implementation of Conv2d:\n",
      "[array([[-0.0196629 , -0.0196629 , -0.0196629 , -0.0196629 , -0.0196629 ],\n",
      "       [-0.0196629 ,  0.27500707,  0.47599107,  0.2583431 , -0.0196629 ],\n",
      "       [-0.0196629 ,  0.34646586,  0.64431113,  0.5810625 , -0.0196629 ],\n",
      "       [-0.0196629 ,  0.01227409,  0.12945685,  0.14419107, -0.0196629 ],\n",
      "       [-0.0196629 , -0.0196629 , -0.0196629 , -0.0196629 , -0.0196629 ]],\n",
      "      dtype=float32)]\n"
     ]
    }
   ],
   "source": [
    "compare_conv2d(\n",
    "    kernel_size=(3, 3),\n",
    "    stride=2,\n",
    "    kernel_center=(0, 0),\n",
    "    padding=3\n",
    ")"
   ]
  }
 ],
 "metadata": {
  "kernelspec": {
   "display_name": "Python 3 (ipykernel)",
   "language": "python",
   "name": "python3"
  },
  "language_info": {
   "codemirror_mode": {
    "name": "ipython",
    "version": 3
   },
   "file_extension": ".py",
   "mimetype": "text/x-python",
   "name": "python",
   "nbconvert_exporter": "python",
   "pygments_lexer": "ipython3",
   "version": "3.9.5"
  }
 },
 "nbformat": 4,
 "nbformat_minor": 5
}
