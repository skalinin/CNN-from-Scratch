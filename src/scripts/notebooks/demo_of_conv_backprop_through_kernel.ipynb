{
 "cells": [
  {
   "cell_type": "code",
   "execution_count": 1,
   "id": "23670511",
   "metadata": {},
   "outputs": [],
   "source": [
    "import numpy as np\n",
    "\n",
    "from cnn.numpy_model import Conv2d"
   ]
  },
  {
   "cell_type": "code",
   "execution_count": 2,
   "id": "8473391f",
   "metadata": {},
   "outputs": [],
   "source": [
    "dEdx_l = np.array([\n",
    "    [1, 2, 3, 4],\n",
    "    [5, 6, 7, 8],\n",
    "    [9, 10, 11, 12],\n",
    "    [13, 14, 15, 16]\n",
    "])\n",
    "\n",
    "y_l_minus_1 = np.zeros((6, 6))"
   ]
  },
  {
   "cell_type": "markdown",
   "id": "4752a4d2",
   "metadata": {},
   "source": [
    "##  View convolution backprop operations through weight kernel on each step"
   ]
  },
  {
   "cell_type": "markdown",
   "id": "ae34954d",
   "metadata": {},
   "source": [
    "### With stride=1 the dE/dx<sup>l</sup> preserves the order of its elements."
   ]
  },
  {
   "cell_type": "code",
   "execution_count": 3,
   "id": "74383837",
   "metadata": {
    "scrolled": true
   },
   "outputs": [
    {
     "name": "stdout",
     "output_type": "stream",
     "text": [
      "a=0; b=0\n",
      " [[ 1.  2.  3.  4.  0.  0.]\n",
      " [ 5.  6.  7.  8.  0.  0.]\n",
      " [ 9. 10. 11. 12.  0.  0.]\n",
      " [13. 14. 15. 16.  0.  0.]\n",
      " [ 0.  0.  0.  0.  0.  0.]\n",
      " [ 0.  0.  0.  0.  0.  0.]]\n",
      "a=0; b=1\n",
      " [[ 0.  1.  2.  3.  4.  0.]\n",
      " [ 0.  5.  6.  7.  8.  0.]\n",
      " [ 0.  9. 10. 11. 12.  0.]\n",
      " [ 0. 13. 14. 15. 16.  0.]\n",
      " [ 0.  0.  0.  0.  0.  0.]\n",
      " [ 0.  0.  0.  0.  0.  0.]]\n",
      "a=1; b=0\n",
      " [[ 0.  0.  0.  0.  0.  0.]\n",
      " [ 1.  2.  3.  4.  0.  0.]\n",
      " [ 5.  6.  7.  8.  0.  0.]\n",
      " [ 9. 10. 11. 12.  0.  0.]\n",
      " [13. 14. 15. 16.  0.  0.]\n",
      " [ 0.  0.  0.  0.  0.  0.]]\n",
      "a=1; b=1\n",
      " [[ 0.  0.  0.  0.  0.  0.]\n",
      " [ 0.  1.  2.  3.  4.  0.]\n",
      " [ 0.  5.  6.  7.  8.  0.]\n",
      " [ 0.  9. 10. 11. 12.  0.]\n",
      " [ 0. 13. 14. 15. 16.  0.]\n",
      " [ 0.  0.  0.  0.  0.  0.]]\n"
     ]
    }
   ],
   "source": [
    "conv2d = Conv2d(\n",
    "    kernel_size=(2, 2),\n",
    "    in_channels=1,\n",
    "    out_channels=1,\n",
    "    stride=1,\n",
    "    kernel_center=(0, 0),\n",
    "    convolution=False\n",
    ")\n",
    "\n",
    "x = conv2d.convolution_back_dEdw_l(y_l_minus_1, dEdx_l, print_demo=True)"
   ]
  },
  {
   "cell_type": "markdown",
   "id": "9eb40384",
   "metadata": {},
   "source": [
    "### But with stride=2 the dE/dx<sup>l</sup>  \"decays\" and zeros appear between its elements."
   ]
  },
  {
   "cell_type": "code",
   "execution_count": 4,
   "id": "0d7cc214",
   "metadata": {
    "scrolled": true
   },
   "outputs": [
    {
     "name": "stdout",
     "output_type": "stream",
     "text": [
      "a=0; b=0\n",
      " [[ 1.  0.  2.  0.  3.  0.]\n",
      " [ 0.  0.  0.  0.  0.  0.]\n",
      " [ 5.  0.  6.  0.  7.  0.]\n",
      " [ 0.  0.  0.  0.  0.  0.]\n",
      " [ 9.  0. 10.  0. 11.  0.]\n",
      " [ 0.  0.  0.  0.  0.  0.]]\n",
      "a=0; b=1\n",
      " [[ 0.  1.  0.  2.  0.  3.]\n",
      " [ 0.  0.  0.  0.  0.  0.]\n",
      " [ 0.  5.  0.  6.  0.  7.]\n",
      " [ 0.  0.  0.  0.  0.  0.]\n",
      " [ 0.  9.  0. 10.  0. 11.]\n",
      " [ 0.  0.  0.  0.  0.  0.]]\n",
      "a=1; b=0\n",
      " [[ 0.  0.  0.  0.  0.  0.]\n",
      " [ 1.  0.  2.  0.  3.  0.]\n",
      " [ 0.  0.  0.  0.  0.  0.]\n",
      " [ 5.  0.  6.  0.  7.  0.]\n",
      " [ 0.  0.  0.  0.  0.  0.]\n",
      " [ 9.  0. 10.  0. 11.  0.]]\n",
      "a=1; b=1\n",
      " [[ 0.  0.  0.  0.  0.  0.]\n",
      " [ 0.  1.  0.  2.  0.  3.]\n",
      " [ 0.  0.  0.  0.  0.  0.]\n",
      " [ 0.  5.  0.  6.  0.  7.]\n",
      " [ 0.  0.  0.  0.  0.  0.]\n",
      " [ 0.  9.  0. 10.  0. 11.]]\n"
     ]
    }
   ],
   "source": [
    "conv2d = Conv2d(\n",
    "    kernel_size=(2, 2),\n",
    "    in_channels=1,\n",
    "    out_channels=1,\n",
    "    stride=2,\n",
    "    kernel_center=(0, 0),\n",
    "    convolution=False\n",
    ")\n",
    "\n",
    "x = conv2d.convolution_back_dEdw_l(y_l_minus_1, dEdx_l, print_demo=True)"
   ]
  }
 ],
 "metadata": {
  "kernelspec": {
   "display_name": "Python 3 (ipykernel)",
   "language": "python",
   "name": "python3"
  },
  "language_info": {
   "codemirror_mode": {
    "name": "ipython",
    "version": 3
   },
   "file_extension": ".py",
   "mimetype": "text/x-python",
   "name": "python",
   "nbconvert_exporter": "python",
   "pygments_lexer": "ipython3",
   "version": "3.9.5"
  }
 },
 "nbformat": 4,
 "nbformat_minor": 5
}
