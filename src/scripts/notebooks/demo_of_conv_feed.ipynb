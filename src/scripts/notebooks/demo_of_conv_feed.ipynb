{
 "cells": [
  {
   "cell_type": "code",
   "execution_count": 1,
   "id": "3c627d9d",
   "metadata": {},
   "outputs": [],
   "source": [
    "import numpy as np\n",
    "\n",
    "from cnn.numpy_model import Conv2d"
   ]
  },
  {
   "cell_type": "code",
   "execution_count": 2,
   "id": "75a7af12",
   "metadata": {},
   "outputs": [],
   "source": [
    "kernel = np.array([\n",
    "    [1, 2],\n",
    "    [3, 4]\n",
    "])\n",
    "\n",
    "y_l_minus_1 = np.zeros((3, 3))"
   ]
  },
  {
   "cell_type": "markdown",
   "id": "4752a4d2",
   "metadata": {},
   "source": [
    "##  View <u>convolution</u> operations on each step"
   ]
  },
  {
   "cell_type": "markdown",
   "id": "4072912c",
   "metadata": {},
   "source": [
    "### The kernel is turned upside down on y<sup>l-1</sup>"
   ]
  },
  {
   "cell_type": "code",
   "execution_count": 3,
   "id": "b0bdb1c9",
   "metadata": {
    "scrolled": true
   },
   "outputs": [
    {
     "name": "stdout",
     "output_type": "stream",
     "text": [
      "i=0; j=0\n",
      " [[1. 0. 0.]\n",
      " [0. 0. 0.]\n",
      " [0. 0. 0.]]\n",
      "i=0; j=1\n",
      " [[2. 1. 0.]\n",
      " [0. 0. 0.]\n",
      " [0. 0. 0.]]\n",
      "i=1; j=0\n",
      " [[3. 0. 0.]\n",
      " [1. 0. 0.]\n",
      " [0. 0. 0.]]\n",
      "i=1; j=1\n",
      " [[4. 3. 0.]\n",
      " [2. 1. 0.]\n",
      " [0. 0. 0.]]\n"
     ]
    }
   ],
   "source": [
    "conv2d = Conv2d(\n",
    "    kernel_size=(2, 2),\n",
    "    in_channels=1,\n",
    "    out_channels=1,\n",
    "    stride=1,\n",
    "    kernel_center=(0, 0),\n",
    "    convolution=True\n",
    ")\n",
    "\n",
    "x = conv2d.convolution_feed_x_l(y_l_minus_1, kernel, print_demo=True)"
   ]
  },
  {
   "cell_type": "markdown",
   "id": "ead1e075",
   "metadata": {},
   "source": [
    "##  View <u>cross-correlation</u> operations on each step"
   ]
  },
  {
   "cell_type": "markdown",
   "id": "566749c2",
   "metadata": {},
   "source": [
    "### The kernel retains its orientation on y<sup>l-1</sup>"
   ]
  },
  {
   "cell_type": "code",
   "execution_count": 4,
   "id": "152eb9b4",
   "metadata": {
    "scrolled": true
   },
   "outputs": [
    {
     "name": "stdout",
     "output_type": "stream",
     "text": [
      "i=0; j=0\n",
      " [[1. 2. 0.]\n",
      " [3. 4. 0.]\n",
      " [0. 0. 0.]]\n",
      "i=0; j=1\n",
      " [[0. 1. 2.]\n",
      " [0. 3. 4.]\n",
      " [0. 0. 0.]]\n",
      "i=1; j=0\n",
      " [[0. 0. 0.]\n",
      " [1. 2. 0.]\n",
      " [3. 4. 0.]]\n",
      "i=1; j=1\n",
      " [[0. 0. 0.]\n",
      " [0. 1. 2.]\n",
      " [0. 3. 4.]]\n"
     ]
    }
   ],
   "source": [
    "conv2d = Conv2d(\n",
    "    kernel_size=(2, 2),\n",
    "    in_channels=1,\n",
    "    out_channels=1,\n",
    "    stride=1,\n",
    "    kernel_center=(0, 0),\n",
    "    convolution=False\n",
    ")\n",
    "\n",
    "x = conv2d.convolution_feed_x_l(y_l_minus_1, kernel, print_demo=True)"
   ]
  }
 ],
 "metadata": {
  "kernelspec": {
   "display_name": "Python 3",
   "language": "python",
   "name": "python3"
  },
  "language_info": {
   "codemirror_mode": {
    "name": "ipython",
    "version": 3
   },
   "file_extension": ".py",
   "mimetype": "text/x-python",
   "name": "python",
   "nbconvert_exporter": "python",
   "pygments_lexer": "ipython3",
   "version": "3.9.5"
  }
 },
 "nbformat": 4,
 "nbformat_minor": 5
}
