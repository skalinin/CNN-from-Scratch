{
 "cells": [
  {
   "cell_type": "code",
   "execution_count": 1,
   "id": "a615fd84",
   "metadata": {},
   "outputs": [],
   "source": [
    "from cnn.numpy_model import get_axes_indexes"
   ]
  },
  {
   "cell_type": "markdown",
   "id": "f8412a95",
   "metadata": {},
   "source": [
    "## Indexes for a kernel of size (3, 3) and with a center at (0, 0)"
   ]
  },
  {
   "cell_type": "code",
   "execution_count": 2,
   "id": "bb626dae",
   "metadata": {},
   "outputs": [
    {
     "name": "stdout",
     "output_type": "stream",
     "text": [
      "indexex on the x-axis: [0, 1, 2]\n",
      "indexex on the y-axis: [0, 1, 2]\n"
     ]
    }
   ],
   "source": [
    "indexes_a, indexes_b = get_axes_indexes(kernel_size=(3, 3),\n",
    "                                        kernel_center=(0, 0))\n",
    "\n",
    "print(f\"indexex on the x-axis: {indexes_a}\")\n",
    "print(f\"indexex on the y-axis: {indexes_b}\")"
   ]
  },
  {
   "cell_type": "markdown",
   "id": "8abe4814",
   "metadata": {},
   "source": [
    "## Indexes for a kernel of size (3, 3) and with a center at (1, 1)"
   ]
  },
  {
   "cell_type": "code",
   "execution_count": 3,
   "id": "1ea3714e",
   "metadata": {},
   "outputs": [
    {
     "name": "stdout",
     "output_type": "stream",
     "text": [
      "indexex on the x-axis: [-1, 0, 1]\n",
      "indexex on the y-axis: [-1, 0, 1]\n"
     ]
    }
   ],
   "source": [
    "indexes_a, indexes_b = get_axes_indexes(kernel_size=(3, 3),\n",
    "                                        kernel_center=(1, 1))\n",
    "\n",
    "print(f\"indexex on the x-axis: {indexes_a}\")\n",
    "print(f\"indexex on the y-axis: {indexes_b}\")"
   ]
  }
 ],
 "metadata": {
  "kernelspec": {
   "display_name": "Python 3",
   "language": "python",
   "name": "python3"
  },
  "language_info": {
   "codemirror_mode": {
    "name": "ipython",
    "version": 3
   },
   "file_extension": ".py",
   "mimetype": "text/x-python",
   "name": "python",
   "nbconvert_exporter": "python",
   "pygments_lexer": "ipython3",
   "version": "3.9.5"
  }
 },
 "nbformat": 4,
 "nbformat_minor": 5
}
